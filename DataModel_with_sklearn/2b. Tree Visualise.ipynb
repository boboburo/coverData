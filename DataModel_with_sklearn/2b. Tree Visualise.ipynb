{
 "cells": [
  {
   "cell_type": "code",
   "execution_count": 1,
   "metadata": {
    "collapsed": true
   },
   "outputs": [],
   "source": [
    "#Determine what platform and the path to data\n",
    "import platform\n",
    "import numpy as np\n",
    "import pandas as pd\n",
    "\n",
    "#Predetermine the column types, saves on any transformtions later on. \n",
    "#Currently pd.Categorical is not a valid dtype so they come in as objects. Ned to convert\n",
    "colTypes = {'Elevation':np.float64,'Aspect':np.float64,'Slope':np.float64,'HD.Hydro':np.float64,'VD.Hyrdro': np.float64,\n",
    "            'HD.Road': np.float64, 'HS.9am':np.float64,'HS.noon':np.float64,'HS.3pm':np.float64,\n",
    "            'wildernessArea':pd.Categorical,'soilType':pd.Categorical,'climaticZone':pd.Categorical,\n",
    "            'geologicZone':pd.Categorical,'coverType':pd.Categorical} \n",
    "\n",
    "\n",
    "\n",
    "\n",
    "if platform.system()  == \"Windows\":\n",
    "     pathToReadData =  \"C:\\\\Users\\\\IBM_ADMIN\\\\Desktop\\\\OneDrive\\\\PublicData\\\\AM\\\\v2\\\\\"\n",
    "     pathToWriteData = \"C:\\\\Users\\\\IBM_ADMIN\\\\Desktop\\\\OneDrive\\\\PublicData\\\\AM\\\\v3\\\\\"\n",
    "elif platform.system() == \"Darwin\":\n",
    "     pathToReadData = \"/Users/briancarter1/Desktop/OneDrive/PublicData/AM/v2/\"\n",
    "     pathToWriteData = \"/Users/briancarter1/Desktop/OneDrive/PublicData/AM/v3/\""
   ]
  },
  {
   "cell_type": "code",
   "execution_count": 2,
   "metadata": {
    "collapsed": false
   },
   "outputs": [
    {
     "data": {
      "text/html": [
       "<div>\n",
       "<table border=\"1\" class=\"dataframe\">\n",
       "  <thead>\n",
       "    <tr style=\"text-align: right;\">\n",
       "      <th></th>\n",
       "      <th>Elevation</th>\n",
       "      <th>Aspect</th>\n",
       "      <th>Slope</th>\n",
       "      <th>HD.Hydro</th>\n",
       "      <th>VD.Hydro</th>\n",
       "      <th>HD.Road</th>\n",
       "      <th>HD.Fire</th>\n",
       "      <th>HS.9am</th>\n",
       "      <th>HS.noon</th>\n",
       "      <th>HS.3pm</th>\n",
       "      <th>wildernessArea</th>\n",
       "      <th>soilType</th>\n",
       "      <th>climaticZone</th>\n",
       "      <th>geologicZone</th>\n",
       "      <th>coverType</th>\n",
       "    </tr>\n",
       "  </thead>\n",
       "  <tbody>\n",
       "    <tr>\n",
       "      <th>0</th>\n",
       "      <td>3391</td>\n",
       "      <td>209</td>\n",
       "      <td>12</td>\n",
       "      <td>558</td>\n",
       "      <td>174</td>\n",
       "      <td>3306</td>\n",
       "      <td>211</td>\n",
       "      <td>251</td>\n",
       "      <td>173</td>\n",
       "      <td>552</td>\n",
       "      <td>ComanchePeak</td>\n",
       "      <td>Bross</td>\n",
       "      <td>alpine</td>\n",
       "      <td>igneous and metamorphic</td>\n",
       "      <td>1.SpruceFir</td>\n",
       "    </tr>\n",
       "    <tr>\n",
       "      <th>1</th>\n",
       "      <td>3374</td>\n",
       "      <td>199</td>\n",
       "      <td>17</td>\n",
       "      <td>499</td>\n",
       "      <td>168</td>\n",
       "      <td>3276</td>\n",
       "      <td>212</td>\n",
       "      <td>252</td>\n",
       "      <td>170</td>\n",
       "      <td>576</td>\n",
       "      <td>ComanchePeak</td>\n",
       "      <td>Bross</td>\n",
       "      <td>alpine</td>\n",
       "      <td>igneous and metamorphic</td>\n",
       "      <td>1.SpruceFir</td>\n",
       "    </tr>\n",
       "    <tr>\n",
       "      <th>2</th>\n",
       "      <td>3366</td>\n",
       "      <td>197</td>\n",
       "      <td>17</td>\n",
       "      <td>484</td>\n",
       "      <td>160</td>\n",
       "      <td>3252</td>\n",
       "      <td>213</td>\n",
       "      <td>252</td>\n",
       "      <td>168</td>\n",
       "      <td>600</td>\n",
       "      <td>ComanchePeak</td>\n",
       "      <td>Bross</td>\n",
       "      <td>alpine</td>\n",
       "      <td>igneous and metamorphic</td>\n",
       "      <td>1.SpruceFir</td>\n",
       "    </tr>\n",
       "    <tr>\n",
       "      <th>3</th>\n",
       "      <td>3357</td>\n",
       "      <td>196</td>\n",
       "      <td>16</td>\n",
       "      <td>469</td>\n",
       "      <td>151</td>\n",
       "      <td>3228</td>\n",
       "      <td>214</td>\n",
       "      <td>252</td>\n",
       "      <td>167</td>\n",
       "      <td>624</td>\n",
       "      <td>ComanchePeak</td>\n",
       "      <td>Bross</td>\n",
       "      <td>alpine</td>\n",
       "      <td>igneous and metamorphic</td>\n",
       "      <td>1.SpruceFir</td>\n",
       "    </tr>\n",
       "    <tr>\n",
       "      <th>4</th>\n",
       "      <td>3346</td>\n",
       "      <td>206</td>\n",
       "      <td>17</td>\n",
       "      <td>426</td>\n",
       "      <td>140</td>\n",
       "      <td>3223</td>\n",
       "      <td>207</td>\n",
       "      <td>253</td>\n",
       "      <td>177</td>\n",
       "      <td>633</td>\n",
       "      <td>ComanchePeak</td>\n",
       "      <td>Bross</td>\n",
       "      <td>alpine</td>\n",
       "      <td>igneous and metamorphic</td>\n",
       "      <td>1.SpruceFir</td>\n",
       "    </tr>\n",
       "  </tbody>\n",
       "</table>\n",
       "</div>"
      ],
      "text/plain": [
       "   Elevation  Aspect  Slope  HD.Hydro  VD.Hydro  HD.Road  HD.Fire  HS.9am  \\\n",
       "0       3391     209     12       558       174     3306      211     251   \n",
       "1       3374     199     17       499       168     3276      212     252   \n",
       "2       3366     197     17       484       160     3252      213     252   \n",
       "3       3357     196     16       469       151     3228      214     252   \n",
       "4       3346     206     17       426       140     3223      207     253   \n",
       "\n",
       "   HS.noon  HS.3pm wildernessArea soilType climaticZone  \\\n",
       "0      173     552   ComanchePeak    Bross       alpine   \n",
       "1      170     576   ComanchePeak    Bross       alpine   \n",
       "2      168     600   ComanchePeak    Bross       alpine   \n",
       "3      167     624   ComanchePeak    Bross       alpine   \n",
       "4      177     633   ComanchePeak    Bross       alpine   \n",
       "\n",
       "              geologicZone    coverType  \n",
       "0  igneous and metamorphic  1.SpruceFir  \n",
       "1  igneous and metamorphic  1.SpruceFir  \n",
       "2  igneous and metamorphic  1.SpruceFir  \n",
       "3  igneous and metamorphic  1.SpruceFir  \n",
       "4  igneous and metamorphic  1.SpruceFir  "
      ]
     },
     "execution_count": 2,
     "metadata": {},
     "output_type": "execute_result"
    }
   ],
   "source": [
    "#Read in the data without binary encoding, 15 original columns \n",
    "import pandas as pd\n",
    "coverData = pd.read_csv(pathToReadData+\"covtype15.csv\",dtype=colTypes )\n",
    "coverData.head()\n"
   ]
  },
  {
   "cell_type": "code",
   "execution_count": 3,
   "metadata": {
    "collapsed": true
   },
   "outputs": [],
   "source": [
    "cat_columns = ['wildernessArea','soilType','climaticZone','geologicZone']\n",
    "wilderness = list(coverData['wildernessArea'].unique())\n",
    "soil = list(coverData['soilType'].unique())\n",
    "climaticZone = list(coverData['climaticZone'].unique())\n",
    "geo = list(coverData['geologicZone'].unique())\n",
    "cover = list(coverData['coverType'].unique())\n",
    "\n",
    "coverData['wildernessArea'] = pd.Categorical(coverData['wildernessArea'], categories=wilderness)\n",
    "coverData['soilType'] = pd.Categorical(coverData['soilType'], categories=soil)\n",
    "coverData['climaticZone'] = pd.Categorical(coverData['climaticZone'], categories=climaticZone)\n",
    "coverData['geologicZone'] = pd.Categorical(coverData['geologicZone'], categories=geo)\n",
    "coverData['coverType'] = pd.Categorical(coverData['coverType'], categories=cover)"
   ]
  },
  {
   "cell_type": "code",
   "execution_count": 4,
   "metadata": {
    "collapsed": true
   },
   "outputs": [],
   "source": [
    "\n",
    "import sklearn.cross_validation as cv\n",
    "\n",
    "#X = coverData.ix[:, coverData.columns != 'coverType']\n",
    "# .ix makes no data.frame categorical variables are reset to objects as not valid dtype\n",
    "\n",
    "\n",
    "#Used later\n",
    "targetLabels=['1.Spruce','2.Lodge','3.Ponder','4.Cotton','5.Aspen','6.Douglas','7.Krymmholz']\n",
    "targetWeights={0 : 0.365, 1 : 0.498, 2 :0.062, 3 : 0.005, 4 : 0.016, 5 : 0.03, 6: 0.035}\n",
    "\n",
    "X = coverData.drop('coverType', axis=1)\n",
    "\n",
    "\n",
    "from sklearn import preprocessing\n",
    "le = preprocessing.LabelEncoder()\n",
    "le.fit(coverData['coverType'])\n",
    "y=le.transform(coverData['coverType'])"
   ]
  },
  {
   "cell_type": "code",
   "execution_count": 5,
   "metadata": {
    "collapsed": true
   },
   "outputs": [],
   "source": [
    "import sklearn.cross_validation as cv\n",
    "X_train, X_test, y_train, y_test = cv.train_test_split(X,y,test_size=0.9,random_state=79)"
   ]
  },
  {
   "cell_type": "code",
   "execution_count": 6,
   "metadata": {
    "collapsed": true
   },
   "outputs": [],
   "source": [
    "from sklearn import tree"
   ]
  },
  {
   "cell_type": "code",
   "execution_count": 9,
   "metadata": {
    "collapsed": false
   },
   "outputs": [
    {
     "name": "stdout",
     "output_type": "stream",
     "text": [
      "(58101, 14)\n",
      "(58101, 65)\n"
     ]
    }
   ],
   "source": [
    "X_train_dummies = pd.get_dummies(X_train)\n",
    "\n",
    "print (X_train.shape)\n",
    "print (X_train_dummies.shape)\n",
    "\n",
    "clf = tree.DecisionTreeClassifier(criterion='gini',max_depth=5,min_samples_split=20).fit(X_train_dummies,y_train)"
   ]
  },
  {
   "cell_type": "code",
   "execution_count": 12,
   "metadata": {
    "collapsed": false
   },
   "outputs": [
    {
     "data": {
      "text/plain": [
       "True"
      ]
     },
     "execution_count": 12,
     "metadata": {},
     "output_type": "execute_result"
    }
   ],
   "source": [
    "from sklearn.externals.six import StringIO  \n",
    "import pydot \n",
    "dot_data = StringIO() \n",
    "tree.export_graphviz(clf, out_file=dot_data,feature_names=X_train_dummies.columns) \n",
    "graph = pydot.graph_from_dot_data(dot_data.getvalue()) \n",
    "graph.write_pdf(\"hope.pdf\") "
   ]
  },
  {
   "cell_type": "code",
   "execution_count": null,
   "metadata": {
    "collapsed": true
   },
   "outputs": [],
   "source": []
  }
 ],
 "metadata": {
  "kernelspec": {
   "display_name": "Python 2",
   "language": "python",
   "name": "python2"
  },
  "language_info": {
   "codemirror_mode": {
    "name": "ipython",
    "version": 2
   },
   "file_extension": ".py",
   "mimetype": "text/x-python",
   "name": "python",
   "nbconvert_exporter": "python",
   "pygments_lexer": "ipython2",
   "version": "2.7.11"
  }
 },
 "nbformat": 4,
 "nbformat_minor": 0
}
